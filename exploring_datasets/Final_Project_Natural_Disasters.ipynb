{
 "cells": [
  {
   "cell_type": "code",
   "execution_count": null,
   "id": "c96befd2-c09a-4494-8d68-5884bc651dc0",
   "metadata": {},
   "outputs": [],
   "source": []
  },
  {
   "cell_type": "markdown",
   "id": "bd3c3a18-f1f7-496d-ba57-0b61c264f5ea",
   "metadata": {},
   "source": [
    "# Final Project EDA: Natural disasters & Carbon Emissions"
   ]
  },
  {
   "cell_type": "markdown",
   "id": "ddf0e0e7-299f-4815-b086-3410e7e5b9d4",
   "metadata": {},
   "source": [
    "### What we need:\n",
    "\n",
    "- Natural disaster dataset\n",
    "- Carbon Emissions dataset that covers the same time period"
   ]
  },
  {
   "cell_type": "markdown",
   "id": "32ce4b3f-16c4-4c98-9a38-40ecf29e1939",
   "metadata": {},
   "source": [
    "# Resources provided by Patrick\n",
    "\n",
    "[Disaster Path Finder](https://www.earthdata.nasa.gov/learn/pathfinders/disasters)\n"
   ]
  },
  {
   "cell_type": "code",
   "execution_count": null,
   "id": "d7a8e501-818a-458e-96e3-cd62d1852f59",
   "metadata": {},
   "outputs": [],
   "source": []
  }
 ],
 "metadata": {
  "kernelspec": {
   "display_name": "DATA_SCIENCE",
   "language": "python",
   "name": "data_science"
  },
  "language_info": {
   "codemirror_mode": {
    "name": "ipython",
    "version": 3
   },
   "file_extension": ".py",
   "mimetype": "text/x-python",
   "name": "python",
   "nbconvert_exporter": "python",
   "pygments_lexer": "ipython3",
   "version": "3.10.4"
  }
 },
 "nbformat": 4,
 "nbformat_minor": 5
}
