{
 "cells": [
  {
   "cell_type": "markdown",
   "id": "06bd4029-4848-4db1-97d1-1d0c542273d4",
   "metadata": {},
   "source": [
    "# Final Project: Exploring Planet Habitability"
   ]
  },
  {
   "cell_type": "markdown",
   "id": "19b462fa-1658-42d7-9cfb-6fb4a4da3258",
   "metadata": {},
   "source": [
    "## Import Python Packages"
   ]
  },
  {
   "cell_type": "code",
   "execution_count": 1,
   "id": "cc6fa892-93f5-423a-9f75-f6e00efa18d2",
   "metadata": {},
   "outputs": [],
   "source": [
    "import pandas as pd\n",
    "import numpy as np\n",
    "import matplotlib.pyplot as plt\n",
    "\n",
    "import os\n",
    "import re\n",
    "import math\n",
    "import time\n",
    "import random\n",
    "\n",
    "from time import sleep\n",
    "from collections import Counter\n",
    "from collections import defaultdict\n",
    "from glob import glob\n",
    "from tqdm import tqdm\n",
    "from IPython.display import Image"
   ]
  },
  {
   "cell_type": "markdown",
   "id": "b8ea9a8e-a784-4571-bfc8-35b6f0622985",
   "metadata": {},
   "source": [
    "## What makes a planet habitable?"
   ]
  },
  {
   "cell_type": "markdown",
   "id": "dfbd460b-f103-4a2e-8227-ff04aae35fb6",
   "metadata": {},
   "source": [
    "[NASA Exoplanets Link]('https://seec.gsfc.nasa.gov/what_makes_a_planet_habitable.html')"
   ]
  },
  {
   "cell_type": "markdown",
   "id": "40d55440-6927-4339-8b9b-0f6a18fb81a4",
   "metadata": {},
   "source": [
    "The text indicates some high level factors that are needed life for a significant period of time.\n",
    "\n",
    "- liquid water\n",
    "    - The region around a star where liquid surface water can exist on a planet’s surface is called the “habitable zone.” \n",
    "\n",
    "\n",
    "- sun\n",
    "    - Planet needs to orbit another star.\n",
    "    - Also, there are different types of stars with different temps.\n",
    "    -  There is a model for students at the website below\n",
    "    \n",
    "<font style='color:red'>Not done with list</font>\n",
    "    "
   ]
  },
  {
   "cell_type": "code",
   "execution_count": 2,
   "id": "eca90788-8549-4ef2-a149-f2524f5ef3e2",
   "metadata": {},
   "outputs": [
    {
     "data": {
      "text/html": [
       "<iframe src='https://activity-player.concord.org/?page=page_100200&runKey=b6df6cb1-1a87-4120-9077-e7619785bde0&sequence=https%3A%2F%2Fauthoring.concord.org%2Fapi%2Fv1%2Fsequences%2F390.json&sequenceActivity=activity_7680' width=\"1200\" height=\"800\"></iframe>\n"
      ],
      "text/plain": [
       "<IPython.core.display.HTML object>"
      ]
     },
     "metadata": {},
     "output_type": "display_data"
    }
   ],
   "source": [
    "%%html\n",
    "<iframe src='https://activity-player.concord.org/?page=page_100200&runKey=b6df6cb1-1a87-4120-9077-e7619785bde0&sequence=https%3A%2F%2Fauthoring.concord.org%2Fapi%2Fv1%2Fsequences%2F390.json&sequenceActivity=activity_7680' width=\"1200\" height=\"800\"></iframe>"
   ]
  },
  {
   "cell_type": "markdown",
   "id": "8ea292ae-c2e1-4878-a898-ce9efa8080e8",
   "metadata": {},
   "source": [
    "## How do we find life outside our solar system? \n",
    "\n",
    "[Finding Habitable Planets]('https://seec.gsfc.nasa.gov/finding_habitable_planets.html')\n",
    "\n",
    "<p>We start by looking for planets that resemble Earth, the only planet we know of that is habitable. This means we look for planets that are roughly the same size as Earth and orbit the right distance from their star to support liquid water at the surface, known as the habitable zone.</p>"
   ]
  },
  {
   "cell_type": "markdown",
   "id": "1025b2d0-fde6-4d30-af1f-11dd9c16e6cd",
   "metadata": {},
   "source": [
    "## Search for Habitable planet database\n",
    "\n",
    "- Tons of links\n",
    "    - [The Planetary Habitability Laboratory (PHL)]('https://phl.upr.edu/data')\n",
    "<br>\n",
    "- One link that looked intresting<br>\n",
    "    - [Habitable Zone Gallery]('http://www.hzgallery.org/table.html')"
   ]
  },
  {
   "cell_type": "markdown",
   "id": "92632b78-29cb-434e-a913-e517f3baa62a",
   "metadata": {},
   "source": [
    "### Take a look at the Habitable Zone Gallery"
   ]
  },
  {
   "cell_type": "code",
   "execution_count": 3,
   "id": "ea0ac6ba-3567-4615-b38f-d2ef1701986c",
   "metadata": {},
   "outputs": [
    {
     "data": {
      "text/html": [
       "<div>\n",
       "<style scoped>\n",
       "    .dataframe tbody tr th:only-of-type {\n",
       "        vertical-align: middle;\n",
       "    }\n",
       "\n",
       "    .dataframe tbody tr th {\n",
       "        vertical-align: top;\n",
       "    }\n",
       "\n",
       "    .dataframe thead th {\n",
       "        text-align: right;\n",
       "    }\n",
       "</style>\n",
       "<table border=\"1\" class=\"dataframe\">\n",
       "  <thead>\n",
       "    <tr style=\"text-align: right;\">\n",
       "      <th></th>\n",
       "      <th>PLANET</th>\n",
       "      <th>MASS</th>\n",
       "      <th>RADIUS</th>\n",
       "      <th>PERIOD</th>\n",
       "      <th>ECC</th>\n",
       "      <th>OMEGA</th>\n",
       "      <th>THZC</th>\n",
       "      <th>THZO</th>\n",
       "      <th>TEQA</th>\n",
       "      <th>TEQB</th>\n",
       "      <th>TEQC</th>\n",
       "      <th>TEQD</th>\n",
       "      <th>OHZIN</th>\n",
       "      <th>CHZIN</th>\n",
       "      <th>CHZOUT</th>\n",
       "      <th>OHZOUT</th>\n",
       "    </tr>\n",
       "  </thead>\n",
       "  <tbody>\n",
       "    <tr>\n",
       "      <th>0</th>\n",
       "      <td>11 Com b</td>\n",
       "      <td>19.400</td>\n",
       "      <td></td>\n",
       "      <td>326.0</td>\n",
       "      <td>0.231</td>\n",
       "      <td>94.8</td>\n",
       "      <td>0.0</td>\n",
       "      <td>0.0</td>\n",
       "      <td>1209.5</td>\n",
       "      <td>1017.1</td>\n",
       "      <td>956.0</td>\n",
       "      <td>803.9</td>\n",
       "      <td>10.481</td>\n",
       "      <td>13.276</td>\n",
       "      <td>24.285</td>\n",
       "      <td>25.615</td>\n",
       "    </tr>\n",
       "    <tr>\n",
       "      <th>1</th>\n",
       "      <td>11 UMi b</td>\n",
       "      <td>14.740</td>\n",
       "      <td></td>\n",
       "      <td>516.2</td>\n",
       "      <td>0.080</td>\n",
       "      <td>90.0</td>\n",
       "      <td>0.0</td>\n",
       "      <td>0.0</td>\n",
       "      <td>1111.3</td>\n",
       "      <td>934.5</td>\n",
       "      <td>1025.6</td>\n",
       "      <td>862.5</td>\n",
       "      <td>12.783</td>\n",
       "      <td>16.192</td>\n",
       "      <td>30.355</td>\n",
       "      <td>32.018</td>\n",
       "    </tr>\n",
       "    <tr>\n",
       "      <th>2</th>\n",
       "      <td>14 And b</td>\n",
       "      <td>4.800</td>\n",
       "      <td></td>\n",
       "      <td>185.8</td>\n",
       "      <td>0.000</td>\n",
       "      <td>0.0</td>\n",
       "      <td>0.0</td>\n",
       "      <td>0.0</td>\n",
       "      <td>1003.1</td>\n",
       "      <td>843.5</td>\n",
       "      <td>1003.1</td>\n",
       "      <td>843.5</td>\n",
       "      <td>6.013</td>\n",
       "      <td>7.617</td>\n",
       "      <td>13.890</td>\n",
       "      <td>14.651</td>\n",
       "    </tr>\n",
       "    <tr>\n",
       "      <th>3</th>\n",
       "      <td>16 Cyg B b</td>\n",
       "      <td>1.780</td>\n",
       "      <td></td>\n",
       "      <td>798.5</td>\n",
       "      <td>0.680</td>\n",
       "      <td>90.0</td>\n",
       "      <td>21.2</td>\n",
       "      <td>29.2</td>\n",
       "      <td>480.8</td>\n",
       "      <td>404.3</td>\n",
       "      <td>209.9</td>\n",
       "      <td>176.5</td>\n",
       "      <td>0.842</td>\n",
       "      <td>1.066</td>\n",
       "      <td>1.881</td>\n",
       "      <td>1.984</td>\n",
       "    </tr>\n",
       "    <tr>\n",
       "      <th>4</th>\n",
       "      <td>17 Sco b</td>\n",
       "      <td>4.320</td>\n",
       "      <td></td>\n",
       "      <td>578.4</td>\n",
       "      <td>0.060</td>\n",
       "      <td>57.0</td>\n",
       "      <td>0.0</td>\n",
       "      <td>0.0</td>\n",
       "      <td>1038.4</td>\n",
       "      <td>873.2</td>\n",
       "      <td>977.9</td>\n",
       "      <td>822.3</td>\n",
       "      <td>10.825</td>\n",
       "      <td>13.712</td>\n",
       "      <td>25.776</td>\n",
       "      <td>27.188</td>\n",
       "    </tr>\n",
       "  </tbody>\n",
       "</table>\n",
       "</div>"
      ],
      "text/plain": [
       "                           PLANET     MASS   RADIUS  PERIOD    ECC  OMEGA  \\\n",
       "0  11 Com b                         19.400            326.0  0.231   94.8   \n",
       "1  11 UMi b                         14.740            516.2  0.080   90.0   \n",
       "2  14 And b                          4.800            185.8  0.000    0.0   \n",
       "3  16 Cyg B b                        1.780            798.5  0.680   90.0   \n",
       "4  17 Sco b                          4.320            578.4  0.060   57.0   \n",
       "\n",
       "   THZC  THZO    TEQA    TEQB    TEQC   TEQD   OHZIN   CHZIN  CHZOUT  OHZOUT  \n",
       "0   0.0   0.0  1209.5  1017.1   956.0  803.9  10.481  13.276  24.285  25.615  \n",
       "1   0.0   0.0  1111.3   934.5  1025.6  862.5  12.783  16.192  30.355  32.018  \n",
       "2   0.0   0.0  1003.1   843.5  1003.1  843.5   6.013   7.617  13.890  14.651  \n",
       "3  21.2  29.2   480.8   404.3   209.9  176.5   0.842   1.066   1.881   1.984  \n",
       "4   0.0   0.0  1038.4   873.2   977.9  822.3  10.825  13.712  25.776  27.188  "
      ]
     },
     "execution_count": 3,
     "metadata": {},
     "output_type": "execute_result"
    }
   ],
   "source": [
    "df_habitable_zone_gal = pd.read_csv('Raw/habitable_zone_data.csv')\n",
    "df_habitable_zone_gal.head()"
   ]
  },
  {
   "cell_type": "markdown",
   "id": "9aa491c2-8252-43db-b6ea-c0cafa2a1ce2",
   "metadata": {},
   "source": [
    "*__What do the columns mean__?*"
   ]
  },
  {
   "cell_type": "code",
   "execution_count": 4,
   "id": "999f23a8-7645-4151-9b8c-d89f03191e7e",
   "metadata": {},
   "outputs": [
    {
     "data": {
      "text/html": [
       "<iframe src='http://www.hzgallery.org/key.html' width=\"800\" height=\"600\"></iframe>\n"
      ],
      "text/plain": [
       "<IPython.core.display.HTML object>"
      ]
     },
     "metadata": {},
     "output_type": "display_data"
    }
   ],
   "source": [
    "%%html\n",
    "<iframe src='http://www.hzgallery.org/key.html' width=\"800\" height=\"600\"></iframe>"
   ]
  },
  {
   "cell_type": "markdown",
   "id": "89361aeb-fb3d-4a81-8a41-d4998a8a022d",
   "metadata": {},
   "source": [
    "*__What could we use this dataset for__?*\n",
    "\n",
    "- Mass:  Too much mass and the gravity would be too much\n",
    "- Radius\n",
    "- Potentially the equlibrium temperatures."
   ]
  },
  {
   "cell_type": "markdown",
   "id": "b618a757-bb1a-4b6d-823a-3c3b92182d07",
   "metadata": {},
   "source": [
    "### Let's keep looking..."
   ]
  },
  {
   "cell_type": "code",
   "execution_count": null,
   "id": "1352d60d-f0d3-4343-b589-fe206b678371",
   "metadata": {},
   "outputs": [],
   "source": []
  }
 ],
 "metadata": {
  "kernelspec": {
   "display_name": "E171",
   "language": "python",
   "name": "e171"
  },
  "language_info": {
   "codemirror_mode": {
    "name": "ipython",
    "version": 3
   },
   "file_extension": ".py",
   "mimetype": "text/x-python",
   "name": "python",
   "nbconvert_exporter": "python",
   "pygments_lexer": "ipython3",
   "version": "3.10.6"
  }
 },
 "nbformat": 4,
 "nbformat_minor": 5
}
